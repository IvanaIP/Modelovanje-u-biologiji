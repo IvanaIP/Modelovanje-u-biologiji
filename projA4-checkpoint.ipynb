{
 "cells": [
  {
   "cell_type": "markdown",
   "id": "faff4cf0-3d13-45f0-aecc-209d32ba618b",
   "metadata": {},
   "source": [
    "# Modelovanje u biologiji\n"
   ]
  },
  {
   "cell_type": "markdown",
   "id": "65e84e8c-c7e4-41fd-bd10-0dcb9ff229bb",
   "metadata": {},
   "source": [
    "Za rešavanje problema potrebno je koristiti `teoriju diferencijalnih jednačina` i \n",
    "analizirati ponašanje sistema populacija u zavisnosti od **parametara** i **početnih uslova**."
   ]
  },
  {
   "cell_type": "markdown",
   "id": "99be0325-cf4d-48bd-bfc9-22b3bf41f6b3",
   "metadata": {},
   "source": [
    "Koristicemo model koji se zove ***Competitive Lotka-Volterra model***, koji opisuje interakciju između dve konkurentske vrste."
   ]
  },
  {
   "cell_type": "markdown",
   "id": "4fd06d95-1620-408d-a44a-5f705f33083b",
   "metadata": {},
   "source": [
    "Predstavljamo ga sledecim sistemom diferencijalnih jednacina:\n"
   ]
  },
  {
   "cell_type": "markdown",
   "id": "a81dae05-182e-4639-9fa2-b78bf8c75387",
   "metadata": {},
   "source": [
    "$ dx/dt = x*(r1 -a11 * x - a12 * y)$"
   ]
  },
  {
   "cell_type": "markdown",
   "id": "c9f23517-dfbc-40ae-9622-2adafe58a199",
   "metadata": {},
   "source": [
    "$ dy/dt = y*(r2 -a21 * x - a22 * y)$"
   ]
  },
  {
   "cell_type": "markdown",
   "id": "385a7733-9bd6-4ccf-a224-2464823981f0",
   "metadata": {},
   "source": [
    "#### Gde su:\n"
   ]
  },
  {
   "cell_type": "markdown",
   "id": "37e79e07-2aa7-494a-bdcc-30c017ef7653",
   "metadata": {},
   "source": [
    "- `x` i `y` populazije prve i druge vrste redom\n",
    "- `r1` i `r2` su stopa rasta populacija bez uticaja konkurencije\n",
    "- `a11` i `a22` predstavljaju uticaj same populacije na svoj rast\n",
    "- `a12` i `a21` predstavljaju uticaj populacije druge vrste na rast prvobitne populacije"
   ]
  },
  {
   "cell_type": "markdown",
   "id": "42e4fca1-b5b6-4f36-9300-4fb8c79182bf",
   "metadata": {},
   "source": [
    "Ovaj model opisuje konkurenciju između dve vrste, gde jedna vrsta može negativno uticati na rast druge vrste i obrnuto."
   ]
  },
  {
   "cell_type": "markdown",
   "id": "18aa960e-618b-4ccf-92ea-67df14e380b2",
   "metadata": {},
   "source": [
    "##### Koristicemo proizvoljne pocetne uslove i vrednosti parametara\n",
    "Pocetni uslovi:\n",
    "- Početna populacija prve vrste (x0) = 100\n",
    "- Početna populacija duge vrste (y0) = 80  "
   ]
  },
  {
   "cell_type": "markdown",
   "id": "784a8e90-f334-40ba-985a-75adb67270da",
   "metadata": {},
   "source": [
    "Parametri:\n",
    "- Stopa rasta populacije prve vrste (r1) = 0.1\n",
    "- Stopa rasta populacije druge vrste (r2) = 0.08\n",
    "- Uticaj same populacije na svoj rast za prvu vrstu (a11) = 0.001\n",
    "- Uticaj same populacije na svoj rast za drugu vrstu (a22) = 0.002\n",
    "- Uticaj populacije druge vrste na rast prve vrste (a12) = 0.001\n",
    "- Uticaj populacije prve vrste na rast druge vrste (a21) = 0.002"
   ]
  },
  {
   "cell_type": "markdown",
   "id": "8f022a0e-8ebc-4550-a0e5-5b904b40742e",
   "metadata": {},
   "source": [
    "Koristicemo biblioteku `scipy` za numericko resavanje sistema diferencijalnih jednacina i biblioteku `matplotlib` za vizuelizaciju rezultata"
   ]
  },
  {
   "cell_type": "code",
   "execution_count": 8,
   "id": "da9d6e01-a5ff-4972-84d6-19cc6fb2ca03",
   "metadata": {},
   "outputs": [
    {
     "ename": "ModuleNotFoundError",
     "evalue": "No module named 'numpy'",
     "output_type": "error",
     "traceback": [
      "\u001b[1;31m---------------------------------------------------------------------------\u001b[0m",
      "\u001b[1;31mModuleNotFoundError\u001b[0m                       Traceback (most recent call last)",
      "Cell \u001b[1;32mIn[8], line 1\u001b[0m\n\u001b[1;32m----> 1\u001b[0m \u001b[38;5;28;01mimport\u001b[39;00m \u001b[38;5;21;01mnumpy\u001b[39;00m \u001b[38;5;28;01mas\u001b[39;00m \u001b[38;5;21;01mnp\u001b[39;00m\n\u001b[0;32m      2\u001b[0m \u001b[38;5;28;01mfrom\u001b[39;00m \u001b[38;5;21;01mscipy\u001b[39;00m\u001b[38;5;21;01m.\u001b[39;00m\u001b[38;5;21;01mintegrate\u001b[39;00m \u001b[38;5;28;01mimport\u001b[39;00m solve_ivp\n\u001b[0;32m      3\u001b[0m \u001b[38;5;28;01mimport\u001b[39;00m \u001b[38;5;21;01mmatplotlib\u001b[39;00m\u001b[38;5;21;01m.\u001b[39;00m\u001b[38;5;21;01mpyplot\u001b[39;00m \u001b[38;5;28;01mas\u001b[39;00m \u001b[38;5;21;01mplt\u001b[39;00m\n",
      "\u001b[1;31mModuleNotFoundError\u001b[0m: No module named 'numpy'"
     ]
    }
   ],
   "source": [
    "import numpy as np\n",
    "from scipy.integrate import solve_ivp\n",
    "import matplotlib.pyplot as plt\n",
    "\n",
    "# Definisanje funkcije koja predstavlja sistem diferencijalnih jednačina\n",
    "def competitive_lotka_volterra(t, y, r1, r2, a11, a12, a21, a22):\n",
    "    x, y = y\n",
    "    dxdt = x * (r1 - a11*x - a12*y)\n",
    "    dydt = y * (r2 - a21*x - a22*y)\n",
    "    return [dxdt, dydt]\n",
    "\n",
    "# Definisanje početnih uslova i parametara\n",
    "initial_conditions = [100, 80]  # Pocetna populacija x i y\n",
    "params = (0.1, 0.08, 0.001, 0.001, 0.002, 0.002)  # r1, r2, a11, a12, a21, a22\n",
    "\n",
    "# Definisanje vremenskog opsega za simulaciju\n",
    "t_span = (0, 100)\n",
    "t_eval = np.linspace(0, 100, 1000)\n",
    "\n",
    "# Numeričko rešavanje sistema diferencijalnih jednačina\n",
    "sol = solve_ivp(competitive_lotka_volterra, t_span, initial_conditions, args=params, t_eval=t_eval)\n"
   ]
  },
  {
   "cell_type": "code",
   "execution_count": null,
   "id": "43bb4c04-9041-4ad1-bfd2-9081ef6054a3",
   "metadata": {},
   "outputs": [],
   "source": []
  }
 ],
 "metadata": {
  "kernelspec": {
   "display_name": "Python 3 (ipykernel)",
   "language": "python",
   "name": "python3"
  },
  "language_info": {
   "codemirror_mode": {
    "name": "ipython",
    "version": 3
   },
   "file_extension": ".py",
   "mimetype": "text/x-python",
   "name": "python",
   "nbconvert_exporter": "python",
   "pygments_lexer": "ipython3",
   "version": "3.10.11"
  }
 },
 "nbformat": 4,
 "nbformat_minor": 5
}
